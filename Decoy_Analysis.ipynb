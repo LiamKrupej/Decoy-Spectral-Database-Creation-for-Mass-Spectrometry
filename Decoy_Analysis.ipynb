{
 "cells": [
  {
   "cell_type": "code",
   "execution_count": 12,
   "metadata": {},
   "outputs": [
    {
     "ename": "ModuleNotFoundError",
     "evalue": "No module named 'MatchMS_Naive_And_Decoy_Datasets'",
     "output_type": "error",
     "traceback": [
      "\u001b[1;31m---------------------------------------------------------------------------\u001b[0m",
      "\u001b[1;31mModuleNotFoundError\u001b[0m                       Traceback (most recent call last)",
      "\u001b[1;32m<ipython-input-12-a90d6e36f12d>\u001b[0m in \u001b[0;36m<module>\u001b[1;34m\u001b[0m\n\u001b[0;32m      7\u001b[0m \u001b[1;32mfrom\u001b[0m \u001b[0mmatchms\u001b[0m \u001b[1;32mimport\u001b[0m \u001b[0mScores\u001b[0m\u001b[1;33m,\u001b[0m \u001b[0mSpectrum\u001b[0m\u001b[1;33m\u001b[0m\u001b[1;33m\u001b[0m\u001b[0m\n\u001b[0;32m      8\u001b[0m \u001b[1;32mfrom\u001b[0m \u001b[0mmatchms\u001b[0m\u001b[1;33m.\u001b[0m\u001b[0mimporting\u001b[0m \u001b[1;32mimport\u001b[0m \u001b[0mload_from_mgf\u001b[0m\u001b[1;33m\u001b[0m\u001b[1;33m\u001b[0m\u001b[0m\n\u001b[1;32m----> 9\u001b[1;33m \u001b[1;32mimport\u001b[0m \u001b[0mMatchMS_Naive_And_Decoy_Datasets\u001b[0m\u001b[1;33m\u001b[0m\u001b[1;33m\u001b[0m\u001b[0m\n\u001b[0m",
      "\u001b[1;31mModuleNotFoundError\u001b[0m: No module named 'MatchMS_Naive_And_Decoy_Datasets'"
     ]
    }
   ],
   "source": [
    "import os\n",
    "import sys\n",
    "import gensim\n",
    "import numpy as np\n",
    "import pandas as pd\n",
    "from matplotlib import pyplot as plt\n",
    "from matchms import Scores, Spectrum\n",
    "from matchms.importing import load_from_mgf\n"
   ]
  },
  {
   "cell_type": "code",
   "execution_count": 10,
   "metadata": {},
   "outputs": [
    {
     "data": {
      "image/png": "[encoded data removed]",
      "text/plain": [
       "<Figure size 432x288 with 1 Axes>"
      ]
     },
     "execution_count": 10,
     "metadata": {},
     "output_type": "execute_result"
    },
    {
     "data": {
      "image/png": "[encoded data removed]",
      "text/plain": [
       "<Figure size 432x288 with 1 Axes>"
      ]
     },
     "metadata": {
      "needs_background": "light"
     },
     "output_type": "display_data"
    }
   ],
   "source": [
    "ROOT = os.path.dirname(os.getcwd())\n",
    "#path_data = os.path.join(ROOT, 'data')\n",
    "path_data = 'C:\\\\Users\\\\User\\\\Data'\n",
    "sys.path.insert(0, ROOT)\n",
    "\n",
    "from matchms.importing import load_from_json\n",
    "\n",
    "from matchms.importing import load_from_mgf\n",
    "\n",
    "filename1 = os.path.join(path_data,'complex_decoy_spectrums')\n",
    "filename2 = os.path.join(path_data,'complex_decoy_spectrums')\n",
    "\n",
    "\n",
    "spectrums = []\n",
    "complex_spectrums = list(load_from_mgf(filename1))\n",
    "\n",
    "spectrums[1].plot()\n",
    "\n",
    "\n"
   ]
  },
  {
   "cell_type": "code",
   "execution_count": 11,
   "metadata": {},
   "outputs": [
    {
     "name": "stdout",
     "output_type": "stream",
     "text": [
      "<matchms.Spectrum.Spectrum object at 0x0000020A9156D088>\n"
     ]
    }
   ],
   "source": [
    "for spec in spectrums."
   ]
  },
  {
   "cell_type": "code",
   "execution_count": null,
   "metadata": {},
   "outputs": [],
   "source": []
  }
 ],
 "metadata": {
  "kernelspec": {
   "display_name": "PyCharm (spec2vec_gnps_data_analysis)",
   "language": "python",
   "name": "pycharm-f13352e0"
  },
  "language_info": {
   "codemirror_mode": {
    "name": "ipython",
    "version": 3
   },
   "file_extension": ".py",
   "mimetype": "text/x-python",
   "name": "python",
   "nbconvert_exporter": "python",
   "pygments_lexer": "ipython3",
   "version": "3.7.7"
  }
 },
 "nbformat": 4,
 "nbformat_minor": 4
}
