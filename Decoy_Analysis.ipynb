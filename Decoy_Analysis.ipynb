{
 "cells": [
  {
   "cell_type": "code",
   "execution_count": 37,
   "metadata": {},
   "outputs": [
    {
     "ename": "ModuleNotFoundError",
     "evalue": "No module named 'massspecutils'",
     "output_type": "error",
     "traceback": [
      "\u001b[1;31m---------------------------------------------------------------------------\u001b[0m",
      "\u001b[1;31mModuleNotFoundError\u001b[0m                       Traceback (most recent call last)",
      "\u001b[1;32m<ipython-input-37-77a89b972c24>\u001b[0m in \u001b[0;36m<module>\u001b[1;34m\u001b[0m\n\u001b[0;32m      7\u001b[0m \u001b[1;32mfrom\u001b[0m \u001b[0mmatchms\u001b[0m \u001b[1;32mimport\u001b[0m \u001b[0mScores\u001b[0m\u001b[1;33m,\u001b[0m \u001b[0mSpectrum\u001b[0m\u001b[1;33m\u001b[0m\u001b[1;33m\u001b[0m\u001b[0m\n\u001b[0;32m      8\u001b[0m \u001b[1;32mfrom\u001b[0m \u001b[0mmatchms\u001b[0m\u001b[1;33m.\u001b[0m\u001b[0mimporting\u001b[0m \u001b[1;32mimport\u001b[0m \u001b[0mload_from_mgf\u001b[0m\u001b[1;33m\u001b[0m\u001b[1;33m\u001b[0m\u001b[0m\n\u001b[1;32m----> 9\u001b[1;33m \u001b[1;32mfrom\u001b[0m \u001b[0mmassspecutils\u001b[0m \u001b[1;32mimport\u001b[0m \u001b[0madduct_rules\u001b[0m\u001b[1;33m\u001b[0m\u001b[1;33m\u001b[0m\u001b[0m\n\u001b[0m",
      "\u001b[1;31mModuleNotFoundError\u001b[0m: No module named 'massspecutils'"
     ]
    }
   ],
   "source": [
    "import os\n",
    "import sys\n",
    "import gensim\n",
    "import numpy as np\n",
    "import pandas as pd\n",
    "from matplotlib import pyplot as plt\n",
    "from matchms import Scores, Spectrum\n",
    "from matchms.importing import load_from_mgf\n"
   ]
  },
  {
   "cell_type": "code",
   "execution_count": null,
   "metadata": {},
   "outputs": [],
   "source": [
    "loaded_data = np.load('library_spectrums_21August.npy', allow_pickle = True)"
   ]
  },
  {
   "cell_type": "code",
   "execution_count": null,
   "metadata": {},
   "outputs": [],
   "source": [
    "len(loaded_data)\n",
    "\n",
    "print(type(loaded_data))\n",
    "\n",
    "loaded_data[0].plot()"
   ]
  },
  {
   "cell_type": "code",
   "execution_count": null,
   "metadata": {},
   "outputs": [],
   "source": [
    "ROOT = os.path.dirname(os.getcwd())\n",
    "path_data = os.path.join(ROOT, 'data')\n",
    "path_data = 'C:\\\\Users\\\\User\\\\Data'\n",
    "sys.path.insert(0, ROOT)\n",
    "\n",
    "\n",
    "from matchms.importing import load_from_mgf\n",
    "\n",
    "filename = os.path.join(path_data,'complex_decoy_spectrums')\n",
    "\n",
    "\n",
    "spectrums = []\n",
    "complex_spectrums = list(load_from_mgf(filename))\n",
    "\n",
    "complex_spectrums[1].plot()\n",
    "\n",
    "len(complex_spectrums)\n",
    "\n"
   ]
  },
  {
   "cell_type": "code",
   "execution_count": 2,
   "metadata": {},
   "outputs": [
    {
     "ename": "NameError",
     "evalue": "name 'complex_spectrums' is not defined",
     "output_type": "error",
     "traceback": [
      "\u001b[1;31m---------------------------------------------------------------------------\u001b[0m",
      "\u001b[1;31mNameError\u001b[0m                                 Traceback (most recent call last)",
      "\u001b[1;32m<ipython-input-2-1f2f876b53c6>\u001b[0m in \u001b[0;36m<module>\u001b[1;34m\u001b[0m\n\u001b[1;32m----> 1\u001b[1;33m \u001b[0mcomplex_spectrums\u001b[0m\u001b[1;33m[\u001b[0m\u001b[1;36m1\u001b[0m\u001b[1;33m]\u001b[0m\u001b[1;33m.\u001b[0m\u001b[0mplot\u001b[0m\u001b[1;33m(\u001b[0m\u001b[1;33m)\u001b[0m\u001b[1;33m\u001b[0m\u001b[1;33m\u001b[0m\u001b[0m\n\u001b[0m\u001b[0;32m      2\u001b[0m \u001b[1;33m\u001b[0m\u001b[0m\n\u001b[0;32m      3\u001b[0m \u001b[0mlen\u001b[0m\u001b[1;33m(\u001b[0m\u001b[0mcomplex_spectrums\u001b[0m\u001b[1;33m)\u001b[0m\u001b[1;33m\u001b[0m\u001b[1;33m\u001b[0m\u001b[0m\n",
      "\u001b[1;31mNameError\u001b[0m: name 'complex_spectrums' is not defined"
     ]
    }
   ],
   "source": [
    "\n",
    "complex_spectrums[1].plot()\n",
    "\n",
    "len(complex_spectrums)\n"
   ]
  },
  {
   "cell_type": "code",
   "execution_count": null,
   "metadata": {},
   "outputs": [],
   "source": [
    "for spec in spectrums."
   ]
  },
  {
   "cell_type": "code",
   "execution_count": 34,
   "metadata": {},
   "outputs": [
    {
     "name": "stdout",
     "output_type": "stream",
     "text": [
      "Week:  1 . Total_deaths: 14058 . Covid_deaths: 0 . Expected_deaths: 14131.2 . Excess_deaths:  -73.2\n",
      "Week:  1 . Total_deaths: 14058 . Covid_deaths: 0 . Expected_deaths: 14131.2 . Excess_deaths:  -73.2\n",
      "Week:  2 . Total_deaths: 12990 . Covid_deaths: 0 . Expected_deaths: 13218.6 . Excess_deaths:  -228.6\n",
      "Week:  2 . Total_deaths: 12990 . Covid_deaths: 0 . Expected_deaths: 13218.6 . Excess_deaths:  -228.6\n",
      "Week:  3 . Total_deaths: 11856 . Covid_deaths: 0 . Expected_deaths: 12791.8 . Excess_deaths:  -935.8\n",
      "Week:  3 . Total_deaths: 11856 . Covid_deaths: 0 . Expected_deaths: 12791.8 . Excess_deaths:  -935.8\n",
      "Week:  4 . Total_deaths: 11612 . Covid_deaths: 0 . Expected_deaths: 12256.8 . Excess_deaths:  -644.8\n",
      "Week:  4 . Total_deaths: 11612 . Covid_deaths: 0 . Expected_deaths: 12256.8 . Excess_deaths:  -644.8\n",
      "Week:  5 . Total_deaths: 10986 . Covid_deaths: 0 . Expected_deaths: 11903 . Excess_deaths:  -917\n",
      "Week:  5 . Total_deaths: 10986 . Covid_deaths: 0 . Expected_deaths: 11903 . Excess_deaths:  -917\n",
      "Week:  6 . Total_deaths: 10944 . Covid_deaths: 0 . Expected_deaths: 11741.2 . Excess_deaths:  -797.2\n",
      "Week:  6 . Total_deaths: 10944 . Covid_deaths: 0 . Expected_deaths: 11741.2 . Excess_deaths:  -797.2\n",
      "Week:  7 . Total_deaths: 10841 . Covid_deaths: 0 . Expected_deaths: 11451 . Excess_deaths:  -610\n",
      "Week:  7 . Total_deaths: 10841 . Covid_deaths: 0 . Expected_deaths: 11451 . Excess_deaths:  -610\n",
      "Week:  8 . Total_deaths: 10816 . Covid_deaths: 0 . Expected_deaths: 11134.8 . Excess_deaths:  -318.8\n",
      "Week:  8 . Total_deaths: 10816 . Covid_deaths: 0 . Expected_deaths: 11134.8 . Excess_deaths:  -318.8\n",
      "Week:  9 . Total_deaths: 10895 . Covid_deaths: 0 . Expected_deaths: 11545.2 . Excess_deaths:  -650.2\n",
      "Week:  9 . Total_deaths: 10895 . Covid_deaths: 0 . Expected_deaths: 11545.2 . Excess_deaths:  -650.2\n",
      "Week:  10 . Total_deaths: 11019 . Covid_deaths: 5 . Expected_deaths: 11202.6 . Excess_deaths:  -183.6\n",
      "Week:  10 . Total_deaths: 11019 . Covid_deaths: 5 . Expected_deaths: 11202.6 . Excess_deaths:  -183.6\n",
      "Week:  11 . Total_deaths: 10645 . Covid_deaths: 103 . Expected_deaths: 10846 . Excess_deaths:  -201\n",
      "Week:  11 . Total_deaths: 10645 . Covid_deaths: 103 . Expected_deaths: 10846 . Excess_deaths:  -201\n",
      "Week:  12 . Total_deaths: 11141 . Covid_deaths: 539 . Expected_deaths: 9992.6 . Excess_deaths:  1148.4\n",
      "Week:  12 . Total_deaths: 11141 . Covid_deaths: 539 . Expected_deaths: 9992.6 . Excess_deaths:  1148.4\n",
      "Week:  13 . Total_deaths: 16387 . Covid_deaths: 3475 . Expected_deaths: 10041.4 . Excess_deaths:  6345.6\n",
      "Week:  13 . Total_deaths: 16387 . Covid_deaths: 3475 . Expected_deaths: 10041.4 . Excess_deaths:  6345.6\n",
      "Week:  14 . Total_deaths: 18516 . Covid_deaths: 6213 . Expected_deaths: 10554.6 . Excess_deaths:  7961.4\n",
      "Week:  14 . Total_deaths: 18516 . Covid_deaths: 6213 . Expected_deaths: 10554.6 . Excess_deaths:  7961.4\n",
      "Week:  15 . Total_deaths: 22351 . Covid_deaths: 8758 . Expected_deaths: 10589.6 . Excess_deaths:  11761.4\n",
      "Week:  15 . Total_deaths: 22351 . Covid_deaths: 8758 . Expected_deaths: 10589.6 . Excess_deaths:  11761.4\n",
      "Week:  16 . Total_deaths: 21997 . Covid_deaths: 8237 . Expected_deaths: 10559.4 . Excess_deaths:  11437.6\n",
      "Week:  16 . Total_deaths: 21997 . Covid_deaths: 8237 . Expected_deaths: 10559.4 . Excess_deaths:  11437.6\n",
      "Week:  17 . Total_deaths: 17953 . Covid_deaths: 6035 . Expected_deaths: 10194.2 . Excess_deaths:  7758.8\n",
      "Week:  17 . Total_deaths: 17953 . Covid_deaths: 6035 . Expected_deaths: 10194.2 . Excess_deaths:  7758.8\n",
      "Week:  18 . Total_deaths: 12657 . Covid_deaths: 3930 . Expected_deaths: 9274.2 . Excess_deaths:  3382.8\n",
      "Week:  18 . Total_deaths: 12657 . Covid_deaths: 3930 . Expected_deaths: 9274.2 . Excess_deaths:  3382.8\n",
      "Week:  19 . Total_deaths: 14573 . Covid_deaths: 3810 . Expected_deaths: 10325.6 . Excess_deaths:  4247.4\n",
      "Week:  19 . Total_deaths: 14573 . Covid_deaths: 3810 . Expected_deaths: 10325.6 . Excess_deaths:  4247.4\n",
      "Week:  20 . Total_deaths: 12288 . Covid_deaths: 2589 . Expected_deaths: 9983.6 . Excess_deaths:  2304.4\n",
      "Week:  20 . Total_deaths: 12288 . Covid_deaths: 2589 . Expected_deaths: 9983.6 . Excess_deaths:  2304.4\n",
      "Week:  21 . Total_deaths: 9824 . Covid_deaths: 1822 . Expected_deaths: 8538.2 . Excess_deaths:  1285.8\n",
      "Week:  21 . Total_deaths: 9824 . Covid_deaths: 1822 . Expected_deaths: 8538.2 . Excess_deaths:  1285.8\n",
      "Week:  22 . Total_deaths: 10709 . Covid_deaths: 1588 . Expected_deaths: 9584.4 . Excess_deaths:  1124.6\n",
      "Week:  22 . Total_deaths: 10709 . Covid_deaths: 1588 . Expected_deaths: 9584.4 . Excess_deaths:  1124.6\n",
      "Week:  23 . Total_deaths: 9976 . Covid_deaths: 1114 . Expected_deaths: 9515.2 . Excess_deaths:  460.8\n",
      "Week:  23 . Total_deaths: 9976 . Covid_deaths: 1114 . Expected_deaths: 9515.2 . Excess_deaths:  460.8\n",
      "Week:  24 . Total_deaths: 9939 . Covid_deaths: 783 . Expected_deaths: 9407.8 . Excess_deaths:  531.2\n",
      "Week:  24 . Total_deaths: 9939 . Covid_deaths: 783 . Expected_deaths: 9407.8 . Excess_deaths:  531.2\n",
      "Week:  25 . Total_deaths: 8979 . Covid_deaths: 606 . Expected_deaths: 9322.4 . Excess_deaths:  -343.4\n",
      "Week:  25 . Total_deaths: 8979 . Covid_deaths: 606 . Expected_deaths: 9322.4 . Excess_deaths:  -343.4\n",
      "Week:  26 . Total_deaths: 9140 . Covid_deaths: 532 . Expected_deaths: 9203.2 . Excess_deaths:  -63.2\n",
      "Week:  26 . Total_deaths: 9140 . Covid_deaths: 532 . Expected_deaths: 9203.2 . Excess_deaths:  -63.2\n",
      "Week:  27 . Total_deaths: 8690 . Covid_deaths: 366 . Expected_deaths: 9200.2 . Excess_deaths:  -510.2\n",
      "Week:  27 . Total_deaths: 8690 . Covid_deaths: 366 . Expected_deaths: 9200.2 . Excess_deaths:  -510.2\n",
      "Week:  28 . Total_deaths: 8823 . Covid_deaths: 295 . Expected_deaths: 9102 . Excess_deaths:  -279\n",
      "Week:  28 . Total_deaths: 8823 . Covid_deaths: 295 . Expected_deaths: 9102 . Excess_deaths:  -279\n",
      "Week:  29 . Total_deaths: 8891 . Covid_deaths: 217 . Expected_deaths: 9055.2 . Excess_deaths:  -164.2\n",
      "Week:  29 . Total_deaths: 8891 . Covid_deaths: 217 . Expected_deaths: 9055.2 . Excess_deaths:  -164.2\n",
      "Week:  30 . Total_deaths: 8946 . Covid_deaths: 193 . Expected_deaths: 9065 . Excess_deaths:  -119\n",
      "Week:  30 . Total_deaths: 8946 . Covid_deaths: 193 . Expected_deaths: 9065 . Excess_deaths:  -119\n",
      "Week:  31 . Total_deaths: 8945 . Covid_deaths: 152 . Expected_deaths: 9104.6 . Excess_deaths:  -159.6\n",
      "Week:  31 . Total_deaths: 8945 . Covid_deaths: 152 . Expected_deaths: 9104.6 . Excess_deaths:  -159.6\n",
      "Week:  32 . Total_deaths: 9392 . Covid_deaths: 139 . Expected_deaths: 9108.4 . Excess_deaths:  283.6\n",
      "Week:  32 . Total_deaths: 9392 . Covid_deaths: 139 . Expected_deaths: 9108.4 . Excess_deaths:  283.6\n",
      "32\n"
     ]
    }
   ],
   "source": []
  },
  {
   "cell_type": "code",
   "execution_count": null,
   "metadata": {},
   "outputs": [],
   "source": []
  }
 ],
 "metadata": {
  "kernelspec": {
   "display_name": "PyCharm (spec2vec_gnps_data_analysis)",
   "language": "python",
   "name": "pycharm-f13352e0"
  },
  "language_info": {
   "codemirror_mode": {
    "name": "ipython",
    "version": 3
   },
   "file_extension": ".py",
   "mimetype": "text/x-python",
   "name": "python",
   "nbconvert_exporter": "python",
   "pygments_lexer": "ipython3",
   "version": "3.7.7"
  }
 },
 "nbformat": 4,
 "nbformat_minor": 4
}
